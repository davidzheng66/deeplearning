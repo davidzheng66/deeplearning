{
  "nbformat": 4,
  "nbformat_minor": 0,
  "metadata": {
    "colab": {
      "name": "Untitled8.ipynb",
      "provenance": [],
      "authorship_tag": "ABX9TyPsVRYeQHImlxfzNT+4B5ol",
      "include_colab_link": true
    },
    "kernelspec": {
      "name": "python3",
      "display_name": "Python 3"
    }
  },
  "cells": [
    {
      "cell_type": "markdown",
      "metadata": {
        "id": "view-in-github",
        "colab_type": "text"
      },
      "source": [
        "<a href=\"https://colab.research.google.com/github/davidzheng66/deeplearning/blob/main/praticalDL4Coders-JeremyHoward/praticalDL4Coders-JeremyHoward.ipynb\" target=\"_parent\"><img src=\"https://colab.research.google.com/assets/colab-badge.svg\" alt=\"Open In Colab\"/></a>"
      ]
    },
    {
      "cell_type": "markdown",
      "metadata": {
        "id": "vecVWoiQ9MTN"
      },
      "source": [
        "#[Practical Deep Learning for Coders - fastai and Jeremy Howard (Cornell University)](https://www.youtube.com/watch?v=0oyCUWLL_fU&list=RDCMUC8butISFwT-Wl7EV0hUK0BQ&start_radio=1&t=55)\r\n",
        "#[Source Code](https://github.com/fastai/fastbook)\r\n",
        "#[Forum](https://forums.fast.ai/)"
      ]
    },
    {
      "cell_type": "markdown",
      "metadata": {
        "id": "sQCysrxRmWTD"
      },
      "source": [
        "#Contents\r\n",
        "- ⌨️ (0:00:00) Lesson 1 - Your first modules\r\n",
        "- ⌨️ (1:22:55) Lesson 2 - Evidence and p values\r\n",
        "- ⌨️ (2:53:59) Lesson 3 - Production and Deployment\r\n",
        "- ⌨️ (5:00:20) Lesson 4 - Stochastic Gradient Descent (SGD) from scratch\r\n",
        "- ⌨️ (7:01:56) Lesson 5 - Data ethics\r\n",
        "- ⌨️ (9:09:46) Lesson 6 - Collaborative filtering\r\n",
        "- ⌨️ (https://youtu.be/HL7LOfyf6bc) Lesson 7 - Tabular data\r\n",
        "- ⌨️ (https://youtu.be/HL7LOfyf6bc) Lesson 8 - Natural language processing"
      ]
    },
    {
      "cell_type": "markdown",
      "metadata": {
        "id": "dlwF7lypnIng"
      },
      "source": [
        "##Lesson 1 - Your first modules [0:00:00]\r\n",
        "\r\n",
        "### The Software\r\n",
        "- Python\r\n",
        "  - PyTorch\r\n",
        "    - fastai\r\n",
        "- Jupyter"
      ]
    }
  ]
}