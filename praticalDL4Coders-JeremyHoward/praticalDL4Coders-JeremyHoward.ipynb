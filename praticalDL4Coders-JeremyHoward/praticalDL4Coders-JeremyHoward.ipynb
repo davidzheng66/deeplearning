{
  "nbformat": 4,
  "nbformat_minor": 0,
  "metadata": {
    "colab": {
      "name": "Untitled8.ipynb",
      "provenance": [],
      "authorship_tag": "ABX9TyN5as7B3lB4RHccNacxFXyh",
      "include_colab_link": true
    },
    "kernelspec": {
      "name": "python3",
      "display_name": "Python 3"
    }
  },
  "cells": [
    {
      "cell_type": "markdown",
      "metadata": {
        "id": "view-in-github",
        "colab_type": "text"
      },
      "source": [
        "<a href=\"https://colab.research.google.com/github/davidzheng66/deeplearning/blob/main/praticalDL4Coders-JeremyHoward/praticalDL4Coders-JeremyHoward.ipynb\" target=\"_parent\"><img src=\"https://colab.research.google.com/assets/colab-badge.svg\" alt=\"Open In Colab\"/></a>"
      ]
    },
    {
      "cell_type": "markdown",
      "metadata": {
        "id": "vecVWoiQ9MTN"
      },
      "source": [
        "#[Practical Deep Learning for Coders - fastai and Jeremy Howard](https://www.youtube.com/watch?v=0oyCUWLL_fU&list=RDCMUC8butISFwT-Wl7EV0hUK0BQ&start_radio=1&t=55)\r\n",
        "#[Source Code](https://github.com/fastai/fastbook)"
      ]
    }
  ]
}